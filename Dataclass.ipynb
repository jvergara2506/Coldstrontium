{
 "cells": [
  {
   "cell_type": "code",
   "execution_count": 58,
   "id": "e4d2b723-f732-4b18-bb95-3e9878cb0aa5",
   "metadata": {},
   "outputs": [
    {
     "name": "stdout",
     "output_type": "stream",
     "text": [
      "Data: [[10.5], 'Sunny']\n",
      "Metadata: {'source': 'weather_station_1', 'time': '2024-06-30 10:00:00', 'unit': 'celsius'}\n",
      "weather_station_1\n",
      "[12, 'medium']\n",
      "{'source': 'weather_station_1', 'time': '2024-06-30 10:00:00', 'unit': 'celsius'}\n",
      "[8, 'low']\n",
      "{'source': 'weather_station_1', 'time': '2024-06-30 10:00:00', 'unit': 'celsius'}\n",
      "[34, 'medium']\n",
      "{'source': 'weather_station_1', 'time': '2024-06-30 10:00:00', 'unit': 'celsius'}\n",
      "[34, 'high']\n",
      "{'source': 'weather_station_1', 'time': '2024-06-30 10:00:00', 'unit': 'celsius'}\n",
      "[12, 'medium']\n",
      "{'source': 'weather_station_1', 'time': '2024-06-30 10:00:00', 'unit': 'celsius'}\n",
      "[38, 'low']\n",
      "{'source': 'weather_station_1', 'time': '2024-06-30 10:00:00', 'unit': 'celsius'}\n",
      "[31, 'medium']\n",
      "{'source': 'weather_station_1', 'time': '2024-06-30 10:00:00', 'unit': 'celsius'}\n",
      "[26, 'low']\n",
      "{'source': 'weather_station_1', 'time': '2024-06-30 10:00:00', 'unit': 'celsius'}\n",
      "[30, 'low']\n",
      "{'source': 'weather_station_1', 'time': '2024-06-30 10:00:00', 'unit': 'celsius'}\n",
      "[2, 'low']\n",
      "{'source': 'weather_station_1', 'time': '2024-06-30 10:00:00', 'unit': 'celsius'}\n"
     ]
    }
   ],
   "source": [
    "import random\n",
    "import json\n",
    "class DataPoint:\n",
    "  def __init__(self, data, metadata={}):\n",
    "    self.data = data\n",
    "    self.metadata = metadata\n",
    "  def get_data(self):\n",
    "    return self.data\n",
    "  def get_metadata(self):\n",
    "    return self.metadata\n",
    "d1,md1=([[10.5],\"Sunny\"],{\"source\":\"weather_station_1\",\"time\":\"2024-06-30 10:00:00\",\"unit\":\"celsius\"})\n",
    "data_point = DataPoint(d1, md1)\n",
    "print(\"Data:\", data_point.get_data())\n",
    "print(\"Metadata:\", data_point.get_metadata())\n",
    "print(data_point.get_metadata().get('source'))\n",
    "\n",
    "class DataManager:\n",
    "    def __init__(self, data_point_class):\n",
    "        self.data_point_class=data_point_class\n",
    "        self.data: List[DataPoint]=[]\n",
    "    def generate_data(self,num_points,data_gen_func):\n",
    "        for _ in range(num_points):\n",
    "            data, metadata=data_gen_func()\n",
    "            self.data.append(self.data_point_class(data,metadata))\n",
    "    def load_data(self,filename):\n",
    "        try:\n",
    "            with open(filename,'r') as f:\n",
    "                for line in f:\n",
    "                    data_dict=json.loads(line)\n",
    "                    self.data.append(self.data_point_class(data_dict[\"data\"], data_dict.get(\"metadata\",{})))\n",
    "        except FileNotFoundError:\n",
    "            raise FileNotFoundError(f\"File not found: {filename}\")\n",
    "    def save_data(self,filename):\n",
    "        with open(filename, 'w') as f:\n",
    "            for data_point in self.data:\n",
    "                data_dict={\"data\": data_point.get_data(),\"metadata\":data_point.get_metadata()}\n",
    "                json.dump(data_dict,f)\n",
    "                f.write('\\n')\n",
    "data_manager=DataManager(DataPoint)\n",
    "def generate_data_point():\n",
    "  data = [random.randint(0, 40), random.choice([\"high\", \"medium\", \"low\"])]\n",
    "  metadata = {\"source\": \"weather_station_1\", \"time\":\"2024-06-30 10:00:00\", \"unit\":\"celsius\"}\n",
    "  return data, metadata\n",
    "data_manager.generate_data(10, generate_data_point)\n",
    "data_manager.save_data(\"data.json\")\n",
    "loaded_data=DataManager(DataPoint)\n",
    "loaded_data.load_data(\"data.json\")\n",
    "for data_point in loaded_data.data:\n",
    "  print(data_point.get_data())\n",
    "  print(data_point.get_metadata())"
   ]
  },
  {
   "cell_type": "code",
   "execution_count": null,
   "id": "b16ab046-5e1d-498d-b2c4-0d17fd927ff6",
   "metadata": {},
   "outputs": [],
   "source": []
  },
  {
   "cell_type": "code",
   "execution_count": null,
   "id": "629f6fee-3360-4fef-8b92-1742ad35a7d5",
   "metadata": {},
   "outputs": [],
   "source": []
  }
 ],
 "metadata": {
  "kernelspec": {
   "display_name": "Python 3 (ipykernel)",
   "language": "python",
   "name": "python3"
  },
  "language_info": {
   "codemirror_mode": {
    "name": "ipython",
    "version": 3
   },
   "file_extension": ".py",
   "mimetype": "text/x-python",
   "name": "python",
   "nbconvert_exporter": "python",
   "pygments_lexer": "ipython3",
   "version": "3.11.7"
  }
 },
 "nbformat": 4,
 "nbformat_minor": 5
}
